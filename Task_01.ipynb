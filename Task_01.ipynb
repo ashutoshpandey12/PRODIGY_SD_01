{
  "nbformat": 4,
  "nbformat_minor": 0,
  "metadata": {
    "colab": {
      "provenance": []
    },
    "kernelspec": {
      "name": "python3",
      "display_name": "Python 3"
    },
    "language_info": {
      "name": "python"
    }
  },
  "cells": [
    {
      "cell_type": "code",
      "execution_count": 1,
      "metadata": {
        "colab": {
          "base_uri": "https://localhost:8080/"
        },
        "id": "Wsx7e3-86aUF",
        "outputId": "f3504bdf-6467-49ca-9819-72c7342bab6c"
      },
      "outputs": [
        {
          "output_type": "stream",
          "name": "stdout",
          "text": [
            "Enter the temperature value: 24\n",
            "Enter the unit of the temperature (C, F, K): C\n",
            "24.0°C is 75.20°F and 297.15K\n"
          ]
        }
      ],
      "source": [
        "def celsius_to_fahrenheit(celsius):\n",
        "    return (celsius * 9/5) + 32\n",
        "\n",
        "def celsius_to_kelvin(celsius):\n",
        "    return celsius + 273.15\n",
        "\n",
        "def fahrenheit_to_celsius(fahrenheit):\n",
        "    return (fahrenheit - 32) * 5/9\n",
        "\n",
        "def fahrenheit_to_kelvin(fahrenheit):\n",
        "    return fahrenheit_to_celsius(fahrenheit) + 273.15\n",
        "\n",
        "def kelvin_to_celsius(kelvin):\n",
        "    return kelvin - 273.15\n",
        "\n",
        "def kelvin_to_fahrenheit(kelvin):\n",
        "    return celsius_to_fahrenheit(kelvin_to_celsius(kelvin))\n",
        "\n",
        "def convert_temperature(value, unit):\n",
        "    if unit.lower() == 'c':\n",
        "        fahrenheit = celsius_to_fahrenheit(value)\n",
        "        kelvin = celsius_to_kelvin(value)\n",
        "        print(f\"{value}°C is {fahrenheit:.2f}°F and {kelvin:.2f}K\")\n",
        "    elif unit.lower() == 'f':\n",
        "        celsius = fahrenheit_to_celsius(value)\n",
        "        kelvin = fahrenheit_to_kelvin(value)\n",
        "        print(f\"{value}°F is {celsius:.2f}°C and {kelvin:.2f}K\")\n",
        "    elif unit.lower() == 'k':\n",
        "        celsius = kelvin_to_celsius(value)\n",
        "        fahrenheit = kelvin_to_fahrenheit(value)\n",
        "        print(f\"{value}K is {celsius:.2f}°C and {fahrenheit:.2f}°F\")\n",
        "    else:\n",
        "        print(\"Invalid unit. Please enter C for Celsius, F for Fahrenheit, or K for Kelvin.\")\n",
        "\n",
        "def main():\n",
        "    value = float(input(\"Enter the temperature value: \"))\n",
        "    unit = input(\"Enter the unit of the temperature (C, F, K): \")\n",
        "    convert_temperature(value, unit)\n",
        "\n",
        "#The condition below should be __name__ == \"__main__\"\n",
        "if __name__ == \"__main__\":\n",
        "    main()"
      ]
    }
  ]
}